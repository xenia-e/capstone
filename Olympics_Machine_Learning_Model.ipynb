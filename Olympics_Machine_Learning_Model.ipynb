{
 "cells": [
  {
   "cell_type": "markdown",
   "id": "cf11ff3d",
   "metadata": {},
   "source": [
    "## CAPSTONE PROJECT "
   ]
  },
  {
   "cell_type": "markdown",
   "id": "d543ad39",
   "metadata": {},
   "source": [
    "“Did the pandemic have any impact on athlete performance during the 2020 Summer Olympics in Tokyo ?”\n",
    "\n",
    "DATA TABLE: "
   ]
  },
  {
   "cell_type": "markdown",
   "id": "f830a044",
   "metadata": {},
   "source": [
    "## Step 1: Import Libraries"
   ]
  },
  {
   "cell_type": "code",
   "execution_count": 2,
   "id": "8730f3eb",
   "metadata": {},
   "outputs": [],
   "source": [
    "# Import our dependencies\n",
    "#from sklearn.model_selection import train_test_split\n",
    "#from sklearn.preprocessing import StandardScaler,OneHotEncoder\n",
    "#from imblearn.ensemble import BalancedRandomForestClassifier\n",
    "#import tensorflow as tf\n",
    "#import pandas as pd"
   ]
  },
  {
   "cell_type": "markdown",
   "id": "75700be9",
   "metadata": {},
   "source": [
    "## Step 2: Load the Data"
   ]
  },
  {
   "cell_type": "code",
   "execution_count": null,
   "id": "0e99515b",
   "metadata": {},
   "outputs": [],
   "source": [
    "## Load data from the database\n",
    "#df = pd.read_csv(\"FILE HERE\")\n",
    "#df.head()"
   ]
  },
  {
   "cell_type": "markdown",
   "id": "067d08e5",
   "metadata": {},
   "source": [
    "## Step 3: Look at Shape and Summary of Data"
   ]
  },
  {
   "cell_type": "code",
   "execution_count": null,
   "id": "0dddbac6",
   "metadata": {},
   "outputs": [],
   "source": [
    "# Review Shape\n",
    "#df.shape()\n",
    "\n",
    "# Determine the number of unique values in each column.\n",
    "#df.nunique()"
   ]
  },
  {
   "cell_type": "markdown",
   "id": "5e8177be",
   "metadata": {},
   "source": [
    "## Step 4: Create Visualizations (Plots, etc.) to Explore the Data"
   ]
  },
  {
   "cell_type": "code",
   "execution_count": null,
   "id": "e2424c9f",
   "metadata": {},
   "outputs": [],
   "source": []
  },
  {
   "cell_type": "markdown",
   "id": "0771e450",
   "metadata": {},
   "source": [
    "## Step 5: Pre-Process Data (Remove unnecessary columns from dataset)"
   ]
  },
  {
   "cell_type": "code",
   "execution_count": null,
   "id": "580adfe9",
   "metadata": {},
   "outputs": [],
   "source": []
  },
  {
   "cell_type": "markdown",
   "id": "063bd033",
   "metadata": {},
   "source": [
    "## Step 6: Encode Object Data"
   ]
  },
  {
   "cell_type": "code",
   "execution_count": null,
   "id": "12f5ce14",
   "metadata": {},
   "outputs": [],
   "source": [
    "# Generate our categorical variable lists\n",
    "#categorical = df.dtypes[df.dtypes == \"object\"].index.tolist()\n",
    "\n",
    "# Create a OneHotEncoder instance\n",
    "#enc = OneHotEncoder(sparse=False)\n",
    "\n",
    "# Fit and transform the OneHotEncoder using the categorical variable list\n",
    "#encode_df = pd.DataFrame(enc.fit_transform(df[categorical]))\n",
    "\n",
    "# Add the encoded variable names to the dataframe\n",
    "#encode_df.columns = enc.get_feature_names(categorical)\n",
    "#encode_df.head()"
   ]
  },
  {
   "cell_type": "markdown",
   "id": "55ff0453",
   "metadata": {},
   "source": [
    "## Step 7: Select Features and Targets"
   ]
  },
  {
   "cell_type": "code",
   "execution_count": null,
   "id": "ab35f94f",
   "metadata": {},
   "outputs": [],
   "source": [
    "# Create our features\n",
    "#X = pd.get_dummies(df, columns=[COLUMNS HERE])\n",
    "\n",
    "# Create our targets\n",
    "#X = X.drop([COLUMN HERE], axis=1)\n",
    "#y = df[COLUMN HERE]"
   ]
  },
  {
   "cell_type": "markdown",
   "id": "9eae59c3",
   "metadata": {},
   "source": [
    "## Step 8: Split to Training and Testing"
   ]
  },
  {
   "cell_type": "code",
   "execution_count": null,
   "id": "b99db53a",
   "metadata": {},
   "outputs": [],
   "source": [
    "# Split the preprocessed data into a training and testing dataset\n",
    "#X_train, X_test, y_train, y_test = train_test_split(X, y, random_state=PICK STATE, stratify=y)"
   ]
  },
  {
   "cell_type": "markdown",
   "id": "dc44ceb6",
   "metadata": {},
   "source": [
    "## Step 9: Scale the Data"
   ]
  },
  {
   "cell_type": "code",
   "execution_count": null,
   "id": "e992888e",
   "metadata": {},
   "outputs": [],
   "source": [
    "# Create a StandardScaler instances\n",
    "#scaler = StandardScaler()\n",
    "\n",
    "# Fit the StandardScaler\n",
    "#X_scaler = scaler.fit(X_train)\n",
    "\n",
    "# Scale the data\n",
    "#X_train_scaled = X_scaler.transform(X_train)\n",
    "#X_test_scaled = X_scaler.transform(X_test)"
   ]
  },
  {
   "cell_type": "markdown",
   "id": "69267d83",
   "metadata": {},
   "source": [
    "## Step 10: Build Model"
   ]
  },
  {
   "cell_type": "markdown",
   "id": "73c9e724",
   "metadata": {},
   "source": [
    "Random Forest Classifier"
   ]
  },
  {
   "cell_type": "markdown",
   "id": "02a5ce4a",
   "metadata": {},
   "source": [
    "Neural Network"
   ]
  },
  {
   "cell_type": "code",
   "execution_count": null,
   "id": "a25a32f7",
   "metadata": {},
   "outputs": [],
   "source": []
  }
 ],
 "metadata": {
  "kernelspec": {
   "display_name": "mlenv",
   "language": "python",
   "name": "mlenv"
  },
  "language_info": {
   "codemirror_mode": {
    "name": "ipython",
    "version": 3
   },
   "file_extension": ".py",
   "mimetype": "text/x-python",
   "name": "python",
   "nbconvert_exporter": "python",
   "pygments_lexer": "ipython3",
   "version": "3.7.7"
  }
 },
 "nbformat": 4,
 "nbformat_minor": 5
}
