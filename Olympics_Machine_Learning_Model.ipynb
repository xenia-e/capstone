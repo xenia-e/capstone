{
 "cells": [
  {
   "cell_type": "markdown",
   "id": "4ff8b0b3",
   "metadata": {},
   "source": [
    "## CAPSTONE PROJECT "
   ]
  },
  {
   "cell_type": "markdown",
   "id": "d6144b7a",
   "metadata": {},
   "source": [
    "“Can we use past olympic data to predict olympic athlete medal recipients?”\n",
    "\n",
    "Data points\n",
    "- Physical measurements\n",
    "- Results (medals)\n",
    "- Performance \n",
    "- Hosts\n",
    "- Qualifying events\n",
    "- Season (Summer/Winter)\n",
    "- Age \n",
    "- Hight\n",
    "- Weight\n",
    "- Name \n",
    "- Country Of Origin\n",
    "- Game \n",
    "- Season \n",
    "- Sport\n",
    "- Medal "
   ]
  },
  {
   "cell_type": "markdown",
   "id": "844e718d",
   "metadata": {},
   "source": [
    "## Step 1: Import Libraries"
   ]
  },
  {
   "cell_type": "code",
   "execution_count": 2,
   "id": "f6244b62",
   "metadata": {},
   "outputs": [],
   "source": [
    "# Import our dependencies\n",
    "#from sqlalchemy import create_engine\n",
    "#from sqlalchemy import inspect\n",
    "\n",
    "#import psycopg2 as pg\n",
    "#import pandas.io.sql as psql\n",
    "\n",
    "#from sklearn.model_selection import train_test_split\n",
    "#from sklearn.preprocessing import StandardScaler,OneHotEncoder\n",
    "#from imblearn.ensemble import BalancedRandomForestClassifier\n",
    "#import tensorflow as tf\n",
    "#import pandas as pd\n",
    "#import numpy as np"
   ]
  },
  {
   "cell_type": "markdown",
   "id": "36d4ca28",
   "metadata": {},
   "source": [
    "## Step 2: Load the Data"
   ]
  },
  {
   "cell_type": "code",
   "execution_count": null,
   "id": "d64b7383",
   "metadata": {},
   "outputs": [],
   "source": [
    "## If just loading from CSV File\n",
    "#df = pd.read_csv(\"FILE HERE\")\n",
    "#df.head()"
   ]
  },
  {
   "cell_type": "code",
   "execution_count": null,
   "id": "6257b76a",
   "metadata": {},
   "outputs": [],
   "source": [
    "# Review module 9 Tuesday basic engine connection\n",
    "# If Loading from SQLite\n",
    "#database_path = \"../Resources/Census_Data.sqlite\"\n",
    "\n",
    "# Create an engine that can talk to the database\n",
    "#engine = create_engine(f\"sqlite:///{database_path}\")\n",
    "\n",
    "# Make a connection to the SQL database\n",
    "#conn = engine.connect()\n",
    "\n",
    "# Query All Records in the the Database\n",
    "#df = pd.read_sql(\"SELECT * FROM Table_Name\", conn)\n",
    "#df.head()"
   ]
  },
  {
   "cell_type": "code",
   "execution_count": null,
   "id": "68ee4cc2",
   "metadata": {},
   "outputs": [],
   "source": [
    "# If Loading from PGAdmin\n",
    "#connection = pg.connect(\"host=localhost dbname=kinder user=your_username password=your_password\")\n",
    "#dataframe = psql.read_sql('SELECT * FROM product_product', connection)\n",
    "#product_category = psql.read_sql_query('select * from product_category', connection)"
   ]
  },
  {
   "cell_type": "markdown",
   "id": "114c0020",
   "metadata": {},
   "source": [
    "## Step 3: Look at Shape and Summary of Data"
   ]
  },
  {
   "cell_type": "code",
   "execution_count": null,
   "id": "6d5a3daf",
   "metadata": {},
   "outputs": [],
   "source": [
    "# Review Shape\n",
    "#df.shape\n",
    "\n",
    "# Determine the number of unique values in each column.\n",
    "#df.nunique()"
   ]
  },
  {
   "cell_type": "markdown",
   "id": "1b734f38",
   "metadata": {},
   "source": [
    "## Step 4: Create Visualizations (Plots, etc.) to Explore the Data"
   ]
  },
  {
   "cell_type": "code",
   "execution_count": null,
   "id": "27cf2fb4",
   "metadata": {},
   "outputs": [],
   "source": [
    "# Create a plot to look at relationship\n",
    "#plt.scatter(df.YearsExperience, df.Salary)\n",
    "#plt.xlabel('Years of Experience')\n",
    "#plt.ylabel('Salary in USD')\n",
    "#plt.show()"
   ]
  },
  {
   "cell_type": "markdown",
   "id": "14b10ce9",
   "metadata": {},
   "source": [
    "## Step 5: Pre-Process Data (Remove unnecessary columns from dataset)"
   ]
  },
  {
   "cell_type": "code",
   "execution_count": null,
   "id": "36a96fa1",
   "metadata": {},
   "outputs": [],
   "source": []
  },
  {
   "cell_type": "markdown",
   "id": "35008808",
   "metadata": {},
   "source": [
    "## Step 6: Encode Object Data"
   ]
  },
  {
   "cell_type": "code",
   "execution_count": null,
   "id": "0513e11e",
   "metadata": {},
   "outputs": [],
   "source": [
    "# Generate our categorical variable lists\n",
    "#categorical = df.dtypes[df.dtypes == \"object\"].index.tolist()\n",
    "\n",
    "# Create a OneHotEncoder instance\n",
    "#enc = OneHotEncoder(sparse=False)\n",
    "\n",
    "# Fit and transform the OneHotEncoder using the categorical variable list\n",
    "#encode_df = pd.DataFrame(enc.fit_transform(df[categorical]))\n",
    "\n",
    "# Add the encoded variable names to the dataframe\n",
    "#encode_df.columns = enc.get_feature_names(categorical)\n",
    "#encode_df.head()\n",
    "\n",
    "# Merge one-hot encoded features and drop the originals\n",
    "#df = df.merge(encode_df,left_index=True, right_index=True)\n",
    "#df = df.drop(categorical,1)\n",
    "#df.head()"
   ]
  },
  {
   "cell_type": "markdown",
   "id": "e3f28cf8",
   "metadata": {},
   "source": [
    "## Step 7: Select Features and Targets"
   ]
  },
  {
   "cell_type": "code",
   "execution_count": null,
   "id": "6d49db7f",
   "metadata": {},
   "outputs": [],
   "source": [
    "# Create our features\n",
    "#X = pd.get_dummies(df, columns=[COLUMNS HERE])\n",
    "\n",
    "# Create our targets\n",
    "#X = X.drop([COLUMN HERE], axis=1)\n",
    "#y = df[COLUMN HERE]"
   ]
  },
  {
   "cell_type": "markdown",
   "id": "af4e9b27",
   "metadata": {},
   "source": [
    "## Step 8: Split to Training and Testing"
   ]
  },
  {
   "cell_type": "code",
   "execution_count": null,
   "id": "7da1df6c",
   "metadata": {},
   "outputs": [],
   "source": [
    "# Split the preprocessed data into a training and testing dataset\n",
    "#X_train, X_test, y_train, y_test = train_test_split(X, y, random_state=PICK STATE, stratify=y)"
   ]
  },
  {
   "cell_type": "markdown",
   "id": "85df41bc",
   "metadata": {},
   "source": [
    "## Step 9: Scale the Data"
   ]
  },
  {
   "cell_type": "code",
   "execution_count": null,
   "id": "66d5c565",
   "metadata": {},
   "outputs": [],
   "source": [
    "# Create a StandardScaler instances\n",
    "#scaler = StandardScaler()\n",
    "\n",
    "# Fit the StandardScaler\n",
    "#X_scaler = scaler.fit(X_train)\n",
    "\n",
    "# Scale the data\n",
    "#X_train_scaled = X_scaler.transform(X_train)\n",
    "#X_test_scaled = X_scaler.transform(X_test)"
   ]
  },
  {
   "cell_type": "markdown",
   "id": "f4040838",
   "metadata": {},
   "source": [
    "## Step 10: Build Model"
   ]
  },
  {
   "cell_type": "markdown",
   "id": "85598289",
   "metadata": {},
   "source": [
    "Random Forest Classifier"
   ]
  },
  {
   "cell_type": "markdown",
   "id": "8a9e46e3",
   "metadata": {},
   "source": [
    "Neural Network"
   ]
  },
  {
   "cell_type": "code",
   "execution_count": null,
   "id": "c22011d8",
   "metadata": {},
   "outputs": [],
   "source": []
  }
 ],
 "metadata": {
  "kernelspec": {
   "display_name": "mlenv",
   "language": "python",
   "name": "mlenv"
  },
  "language_info": {
   "codemirror_mode": {
    "name": "ipython",
    "version": 3
   },
   "file_extension": ".py",
   "mimetype": "text/x-python",
   "name": "python",
   "nbconvert_exporter": "python",
   "pygments_lexer": "ipython3",
   "version": "3.7.7"
  }
 },
 "nbformat": 4,
 "nbformat_minor": 5
}
