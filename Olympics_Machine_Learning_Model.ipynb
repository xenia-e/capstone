{
 "cells": [
  {
   "cell_type": "markdown",
   "id": "c11057f0",
   "metadata": {},
   "source": [
    "## CAPSTONE PROJECT "
   ]
  },
  {
   "cell_type": "markdown",
   "id": "83706a24",
   "metadata": {},
   "source": [
    "“Did the pandemic have any impact on athlete performance during the 2020 Summer Olympics in Tokyo ?”\n",
    "\n",
    "DATA TABLE: "
   ]
  },
  {
   "cell_type": "markdown",
   "id": "02cb16d0",
   "metadata": {},
   "source": [
    "## Step 1: Import Libraries"
   ]
  },
  {
   "cell_type": "code",
   "execution_count": 2,
   "id": "04606430",
   "metadata": {},
   "outputs": [],
   "source": [
    "# Import our dependencies\n",
    "#from sklearn.model_selection import train_test_split\n",
    "#from sklearn.preprocessing import StandardScaler,OneHotEncoder\n",
    "#from imblearn.ensemble import BalancedRandomForestClassifier\n",
    "#import pandas as pd"
   ]
  },
  {
   "cell_type": "markdown",
   "id": "5850349f",
   "metadata": {},
   "source": [
    "## Step 2: Load the Data"
   ]
  },
  {
   "cell_type": "code",
   "execution_count": null,
   "id": "43b92d32",
   "metadata": {},
   "outputs": [],
   "source": [
    "## Load data from the database\n",
    "#df = pd.read_csv(\"FILE HERE\")\n",
    "#df.head()"
   ]
  },
  {
   "cell_type": "markdown",
   "id": "a62e59fd",
   "metadata": {},
   "source": [
    "## Step 3: Look at Shape and Summary of Data"
   ]
  },
  {
   "cell_type": "code",
   "execution_count": null,
   "id": "1494fc60",
   "metadata": {},
   "outputs": [],
   "source": []
  },
  {
   "cell_type": "markdown",
   "id": "60a917d5",
   "metadata": {},
   "source": [
    "## Step 4: Create Visualizations (Plots, etc.) to Explore the Data"
   ]
  },
  {
   "cell_type": "code",
   "execution_count": null,
   "id": "0c44c52c",
   "metadata": {},
   "outputs": [],
   "source": []
  },
  {
   "cell_type": "markdown",
   "id": "ce0379b4",
   "metadata": {},
   "source": [
    "## Step 5: Pre-Process Data (Remove unnecessary columns from dataset)"
   ]
  },
  {
   "cell_type": "code",
   "execution_count": null,
   "id": "1b2a982c",
   "metadata": {},
   "outputs": [],
   "source": []
  },
  {
   "cell_type": "markdown",
   "id": "1c5a6a01",
   "metadata": {},
   "source": [
    "## Step 6: Select Features and Targets"
   ]
  },
  {
   "cell_type": "code",
   "execution_count": null,
   "id": "09ad4e24",
   "metadata": {},
   "outputs": [],
   "source": []
  },
  {
   "cell_type": "markdown",
   "id": "5146a1ac",
   "metadata": {},
   "source": [
    "## Step 7: Split to Training and Testing"
   ]
  },
  {
   "cell_type": "code",
   "execution_count": null,
   "id": "e7f65e5a",
   "metadata": {},
   "outputs": [],
   "source": []
  },
  {
   "cell_type": "markdown",
   "id": "16a2af84",
   "metadata": {},
   "source": [
    "## Step 8: Scale Data (Encode if needed)"
   ]
  },
  {
   "cell_type": "code",
   "execution_count": null,
   "id": "ec59e64b",
   "metadata": {},
   "outputs": [],
   "source": []
  },
  {
   "cell_type": "markdown",
   "id": "276e03b6",
   "metadata": {},
   "source": [
    "## Step 9: Build Model"
   ]
  },
  {
   "cell_type": "code",
   "execution_count": null,
   "id": "e6e782b7",
   "metadata": {},
   "outputs": [],
   "source": []
  },
  {
   "cell_type": "code",
   "execution_count": null,
   "id": "9e251d38",
   "metadata": {},
   "outputs": [],
   "source": []
  }
 ],
 "metadata": {
  "kernelspec": {
   "display_name": "mlenv",
   "language": "python",
   "name": "mlenv"
  },
  "language_info": {
   "codemirror_mode": {
    "name": "ipython",
    "version": 3
   },
   "file_extension": ".py",
   "mimetype": "text/x-python",
   "name": "python",
   "nbconvert_exporter": "python",
   "pygments_lexer": "ipython3",
   "version": "3.7.7"
  }
 },
 "nbformat": 4,
 "nbformat_minor": 5
}
